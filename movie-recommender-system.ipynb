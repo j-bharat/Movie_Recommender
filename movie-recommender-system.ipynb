{
 "cells": [
  {
   "cell_type": "code",
   "execution_count": null,
   "id": "a4e9b0c5-5866-4252-9c38-1dde2b14d305",
   "metadata": {},
   "outputs": [],
   "source": [
    "import numpy as np\n",
    "import pandas as pd \n",
    "\n",
    "#Import libraries"
   ]
  },
  {
   "cell_type": "code",
   "execution_count": null,
   "id": "9562b490-114e-4028-8090-43b87339db8f",
   "metadata": {},
   "outputs": [],
   "source": [
    "movies = pd.read_csv('tmdb_5000_movies.csv')\n",
    "credits = pd.read_csv('tmdb_5000_credits.csv') \n",
    "\n",
    "#Import Databases"
   ]
  },
  {
   "cell_type": "code",
   "execution_count": null,
   "id": "ca4b06bc-c005-4ee4-b62f-7a1c25d4eb4c",
   "metadata": {},
   "outputs": [],
   "source": [
    "movies = movies.merge(credits,on='title')\n",
    "\n",
    "#Merge both databases on the basis of \"title\""
   ]
  },
  {
   "cell_type": "code",
   "execution_count": null,
   "id": "92f065a2-317a-4f89-b23b-7dc45395adc7",
   "metadata": {},
   "outputs": [],
   "source": [
    "movies.shape #Check our data's dimensions"
   ]
  },
  {
   "cell_type": "code",
   "execution_count": null,
   "id": "ed5f6772-0e6d-4af1-9bf7-3e85329d9e12",
   "metadata": {},
   "outputs": [],
   "source": [
    "movies.head(1)\n",
    "\n",
    "#Check how merged databses look like"
   ]
  },
  {
   "cell_type": "code",
   "execution_count": null,
   "id": "06b025f5-f73a-408c-88cd-e25f7d39da3c",
   "metadata": {},
   "outputs": [],
   "source": [
    "#genres\n",
    "#id\n",
    "# keywords\n",
    "# title\n",
    "# overview\n",
    "# cast\n",
    "# crew\n",
    "\n",
    "movies = movies[['movie_id','title','overview','genres','keywords','cast','crew']]\n",
    "\n",
    "#Select relevant fields"
   ]
  },
  {
   "cell_type": "code",
   "execution_count": null,
   "id": "662f1bd5-e3ee-4183-b4c6-239935a352ba",
   "metadata": {},
   "outputs": [],
   "source": [
    "movies.isnull().sum()"
   ]
  },
  {
   "cell_type": "code",
   "execution_count": null,
   "id": "be79c464-650a-4edc-abed-54bc45b9be51",
   "metadata": {},
   "outputs": [],
   "source": [
    "movies.dropna(inplace=True)\n",
    "\n",
    "#Remove blanks"
   ]
  },
  {
   "cell_type": "code",
   "execution_count": null,
   "id": "bf858cf5-4752-4453-b602-15a1841d38ef",
   "metadata": {},
   "outputs": [],
   "source": [
    "movies.duplicated().sum()"
   ]
  },
  {
   "cell_type": "code",
   "execution_count": null,
   "id": "16640b23-9f3b-4078-ae80-250695204281",
   "metadata": {},
   "outputs": [],
   "source": [
    "movies.iloc[0].genres \n",
    "\n",
    "#View how genres appear for a movie"
   ]
  },
  {
   "cell_type": "code",
   "execution_count": null,
   "id": "ff0ee4c6-12e4-4a61-963c-c718e11fa9be",
   "metadata": {
    "scrolled": true
   },
   "outputs": [],
   "source": [
    "movies.head()"
   ]
  },
  {
   "cell_type": "code",
   "execution_count": null,
   "id": "15deec04-be67-41fa-80e3-198c7815dc99",
   "metadata": {},
   "outputs": [],
   "source": [
    "import ast\n",
    "ast.literal_eval"
   ]
  },
  {
   "cell_type": "code",
   "execution_count": null,
   "id": "262cdcca-fcda-402e-89e9-14d87e6fde12",
   "metadata": {},
   "outputs": [],
   "source": [
    "def convert(obj):\n",
    "    L = []\n",
    "    for i in ast.literal_eval(obj):\n",
    "        L.append(i['name'])\n",
    "    return L\n",
    "\n",
    "#Get all values from the dictionary"
   ]
  },
  {
   "cell_type": "code",
   "execution_count": null,
   "id": "09f5e671-033f-4087-8926-4b90aaa65b1e",
   "metadata": {},
   "outputs": [],
   "source": [
    "def convert3(obj):\n",
    "    L = []\n",
    "    counter = 0\n",
    "    for i in ast.literal_eval(obj):\n",
    "        if counter!=3:\n",
    "            L.append(i['name'])\n",
    "            counter+=1;\n",
    "        else:\n",
    "            break\n",
    "    return L\n",
    "\n",
    "#Get top 3 values from the dictionary"
   ]
  },
  {
   "cell_type": "code",
   "execution_count": null,
   "id": "16d984ad-ab40-4c70-9ce1-cd7fba268973",
   "metadata": {},
   "outputs": [],
   "source": [
    "def fetch_director(obj):\n",
    "    L = []\n",
    "    \n",
    "    for i in ast.literal_eval(obj):\n",
    "        if i['job'] == 'Director':\n",
    "            L.append(i['name'])\n",
    "            break\n",
    "    return L\n",
    "\n",
    "#Fetch Diretor's name from the dictonary"
   ]
  },
  {
   "cell_type": "code",
   "execution_count": null,
   "id": "4b021e7a-46a2-4f66-a4a9-280c10a5a803",
   "metadata": {
    "scrolled": true
   },
   "outputs": [],
   "source": [
    "movies['genres']= movies['genres'].apply(convert)"
   ]
  },
  {
   "cell_type": "code",
   "execution_count": null,
   "id": "e9228da5-d81d-42c7-84c8-b7e10366de57",
   "metadata": {},
   "outputs": [],
   "source": [
    "movies['keywords']=movies['keywords'].apply(convert)\n"
   ]
  },
  {
   "cell_type": "code",
   "execution_count": null,
   "id": "2e184029-baba-4143-b76c-2e5a16fe5952",
   "metadata": {},
   "outputs": [],
   "source": [
    "movies['cast']=movies['cast'].apply(convert3)"
   ]
  },
  {
   "cell_type": "code",
   "execution_count": null,
   "id": "4a124581-9969-4ff0-82f2-cfb7cb17574a",
   "metadata": {},
   "outputs": [],
   "source": [
    "movies['crew']=movies['crew'].apply(fetch_director)\n"
   ]
  },
  {
   "cell_type": "code",
   "execution_count": null,
   "id": "dcd9b253-abc3-4d7d-a336-54c7f412000c",
   "metadata": {
    "scrolled": true
   },
   "outputs": [],
   "source": [
    "movies['overview'] = movies['overview'].apply(lambda x:x.split())  #Lamda split converts string to a list of separate words"
   ]
  },
  {
   "cell_type": "code",
   "execution_count": null,
   "id": "743d5b3e-15bd-4bdf-9b13-ea9193307242",
   "metadata": {},
   "outputs": [],
   "source": [
    "movies['keywords']=movies['keywords'].apply(lambda x:[i.replace(\" \", \"\") for i in x])\n",
    "movies['cast']=movies['cast'].apply(lambda x:[i.replace(\" \", \"\") for i in x])\n",
    "movies['crew']=movies['crew'].apply(lambda x:[i.replace(\" \", \"\") for i in x]) \n",
    "\n",
    "#Deletion of spaces"
   ]
  },
  {
   "cell_type": "code",
   "execution_count": null,
   "id": "df02ce5f-0df9-4f7d-827e-29f423e48308",
   "metadata": {},
   "outputs": [],
   "source": [
    "movies['tags'] = movies['overview'] + movies['genres'] + movies['keywords'] + movies['cast'] + movies['crew'] \n",
    "\n",
    "#Create new field \"tags\" which has all textual data that we need to measure similarity"
   ]
  },
  {
   "cell_type": "code",
   "execution_count": null,
   "id": "1b2c32f9-2182-49ff-8bbe-2dfeb5804fd3",
   "metadata": {},
   "outputs": [],
   "source": [
    "new_df = movies[['movie_id', 'title', 'tags']] #New database with combined field \"tags\""
   ]
  },
  {
   "cell_type": "code",
   "execution_count": null,
   "id": "6b2433b3-7d06-4f77-b294-0b3b0fc28a91",
   "metadata": {},
   "outputs": [],
   "source": [
    "new_df['tags']= new_df['tags'].apply(lambda x:\" \".join(x)) #convert all separate strings into a single string"
   ]
  },
  {
   "cell_type": "code",
   "execution_count": null,
   "id": "117f6a66-aa36-4564-ac5b-bcc590324930",
   "metadata": {},
   "outputs": [],
   "source": [
    "new_df['tags'] = new_df['tags'].apply(lambda x: x.lower()) #lowercase conversion"
   ]
  },
  {
   "cell_type": "code",
   "execution_count": null,
   "id": "e533ca3f-cee4-40dc-ad03-731981b34abb",
   "metadata": {},
   "outputs": [],
   "source": [
    "new_df.head()\n",
    "\n",
    "#How our database looks presently"
   ]
  },
  {
   "cell_type": "code",
   "execution_count": null,
   "id": "8f4b540d-0942-47b8-971a-99f2bffeffb5",
   "metadata": {},
   "outputs": [],
   "source": [
    "import nltk"
   ]
  },
  {
   "cell_type": "code",
   "execution_count": null,
   "id": "329bea06-6e86-400c-aef9-a74d4bf67051",
   "metadata": {},
   "outputs": [],
   "source": [
    "!pip install nltk"
   ]
  },
  {
   "cell_type": "code",
   "execution_count": null,
   "id": "2fbe7b7a-fdbd-42c7-becb-172792728b97",
   "metadata": {},
   "outputs": [],
   "source": [
    "from nltk.stem.porter import PorterStemmer\n",
    "ps = PorterStemmer()"
   ]
  },
  {
   "cell_type": "code",
   "execution_count": null,
   "id": "f76252fa-31f9-40e4-9b13-09ffef1e44b2",
   "metadata": {},
   "outputs": [],
   "source": [
    "def stem(text):\n",
    "    y= []\n",
    "    for i in text.split():\n",
    "       y.append(ps.stem(i));\n",
    "    return \" \".join(y);\n",
    "\n",
    "#Split string into list of words, stem each word to its root, and join it back to a complete single string"
   ]
  },
  {
   "cell_type": "code",
   "execution_count": null,
   "id": "43f1d2c4-c57c-49fd-b03a-8f64f431ed84",
   "metadata": {},
   "outputs": [],
   "source": [
    "new_df['tags'] = new_df['tags'].apply(stem) #Call the function"
   ]
  },
  {
   "cell_type": "code",
   "execution_count": null,
   "id": "50a0b9ab-9198-4d5c-b27c-0393d6465508",
   "metadata": {},
   "outputs": [],
   "source": [
    "from sklearn.feature_extraction.text import CountVectorizer\n",
    "cv = CountVectorizer(max_features = 5000, stop_words = 'english') # Take 5000 most popular words from all of them. Remove stop words to add precision"
   ]
  },
  {
   "cell_type": "code",
   "execution_count": null,
   "id": "75195617-0dbd-4753-81ae-22bb7bf39987",
   "metadata": {},
   "outputs": [],
   "source": [
    "vectors = cv.fit_transform(new_df['tags']).toarray() \n",
    "\n",
    "#Tokenize and count the occurrence of each word in the 'tags' column, creating a matrix of token counts. Convert the matrix to a dense NumPy array."
   ]
  },
  {
   "cell_type": "code",
   "execution_count": null,
   "id": "c682702e-e441-4968-9b4b-6a307305068a",
   "metadata": {},
   "outputs": [],
   "source": [
    "vectors[0]"
   ]
  },
  {
   "cell_type": "code",
   "execution_count": null,
   "id": "5be3da20-231f-4975-950b-3a41359d5659",
   "metadata": {},
   "outputs": [],
   "source": [
    "cv.get_feature_names_out()"
   ]
  },
  {
   "cell_type": "code",
   "execution_count": null,
   "id": "a55057ca-1d11-483b-b95f-b8c5beae0bf9",
   "metadata": {},
   "outputs": [],
   "source": [
    "from sklearn.metrics.pairwise import cosine_similarity"
   ]
  },
  {
   "cell_type": "code",
   "execution_count": null,
   "id": "8209b03f-72a1-4115-a9dd-ca5be8ffdcd8",
   "metadata": {},
   "outputs": [],
   "source": [
    "similarity= cosine_similarity(vectors) #Measure dot product between rows of matrix to check for similarity between vectors"
   ]
  },
  {
   "cell_type": "code",
   "execution_count": null,
   "id": "616f9744-cb57-418b-a565-d93d05e371a9",
   "metadata": {},
   "outputs": [],
   "source": [
    "similarity[0] #Check for similarity"
   ]
  },
  {
   "cell_type": "code",
   "execution_count": null,
   "id": "325b925c-651f-4c32-8944-dede832b4a55",
   "metadata": {},
   "outputs": [],
   "source": [
    "new_df[new_df['title'] == 'Batman Begins'].index[0]"
   ]
  },
  {
   "cell_type": "code",
   "execution_count": null,
   "id": "beac3756-3f19-42ee-b805-5d5d9eebda13",
   "metadata": {},
   "outputs": [],
   "source": [
    "sorted(list(enumerate(similarity[0])), reverse = True, key = lambda x:x[1])[1:6] \n",
    "\n",
    "#Sort list in descending order of similarity, present top 5\n",
    "#lambda function for changing sorting key from list no. to similarities"
   ]
  },
  {
   "cell_type": "code",
   "execution_count": null,
   "id": "9ff3ef44-055b-476c-9b90-485056e9b88e",
   "metadata": {},
   "outputs": [],
   "source": [
    "def give_recommendations_like(movie):\n",
    "    movie_index = new_df[new_df['title'] == movie].index[0]\n",
    "    distances = similarity[movie_index]\n",
    "    movies_list = sorted(list(enumerate(distances)), reverse = True, key = lambda x:x[1])[1:6] \n",
    "\n",
    "    for i in movies_list:\n",
    "        print(new_df.iloc[i[0]].title) #i[0] gives Sno of movies, iloc allows to access name"
   ]
  },
  {
   "cell_type": "code",
   "execution_count": null,
   "id": "8af687b5-008e-433a-8e12-ed3f20055d50",
   "metadata": {},
   "outputs": [],
   "source": [
    "give_recommendations_like('Interstellar') # You're all set!Enter a movie name in the quotes. "
   ]
  }
 ],
 "metadata": {
  "kernelspec": {
   "display_name": "Python 3 (ipykernel)",
   "language": "python",
   "name": "python3"
  },
  "language_info": {
   "codemirror_mode": {
    "name": "ipython",
    "version": 3
   },
   "file_extension": ".py",
   "mimetype": "text/x-python",
   "name": "python",
   "nbconvert_exporter": "python",
   "pygments_lexer": "ipython3",
   "version": "3.11.7"
  }
 },
 "nbformat": 4,
 "nbformat_minor": 5
}
